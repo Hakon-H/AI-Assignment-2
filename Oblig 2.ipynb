{
 "cells": [
  {
   "cell_type": "code",
   "execution_count": 1,
   "id": "48d6d1ad",
   "metadata": {},
   "outputs": [],
   "source": [
    "#1: Jeg har valgt oppgave 1, som skal forutse askjemarked prisene til Tesla. Man skal kunne legge inn en dato som input, og så skal programmet returnere forventet pris på gitt dato.\n",
    "\n",
    "#2: Jeg har valgt å bruke regresjon i denne oppgaven, siden den bare skal returnere et tall. Samme gjelder oppgave 2, siden man bare skal skrive ut forventet antall passasjerer, men med klassifikasjon kan man også \"klassifisere\" data, som kjønn og alder.\n",
    "\n",
    "#3: Litt ble nevnt over, men jeg valgte regresjon fordi det virker bra når man skal forutsi for eksempel priser. Det er bra når man skal finne sammenhenger mellom variabler, som i dette tilfellet er datoer og prisen på aksjemarkedet."
   ]
  },
  {
   "cell_type": "code",
   "execution_count": 2,
   "id": "f41b5bec",
   "metadata": {},
   "outputs": [],
   "source": [
    "import pandas as pd\n",
    "import numpy as np\n",
    "\n",
    "from sklearn.model_selection import train_test_split\n",
    "from sklearn.linear_model import LinearRegression\n",
    "\n",
    "import seaborn as sns\n",
    "\n",
    "\n",
    "url = \"https://raw.githubusercontent.com/umaimehm/Intro_to_AI_2021/main/assignment2-machinelearning/TSLA.csv\""
   ]
  },
  {
   "cell_type": "code",
   "execution_count": 3,
   "id": "1424b9d9",
   "metadata": {},
   "outputs": [
    {
     "data": {
      "text/html": [
       "<div>\n",
       "<style scoped>\n",
       "    .dataframe tbody tr th:only-of-type {\n",
       "        vertical-align: middle;\n",
       "    }\n",
       "\n",
       "    .dataframe tbody tr th {\n",
       "        vertical-align: top;\n",
       "    }\n",
       "\n",
       "    .dataframe thead th {\n",
       "        text-align: right;\n",
       "    }\n",
       "</style>\n",
       "<table border=\"1\" class=\"dataframe\">\n",
       "  <thead>\n",
       "    <tr style=\"text-align: right;\">\n",
       "      <th></th>\n",
       "      <th>Date</th>\n",
       "      <th>Open</th>\n",
       "      <th>High</th>\n",
       "      <th>Low</th>\n",
       "      <th>Close</th>\n",
       "      <th>Adj Close</th>\n",
       "      <th>Volume</th>\n",
       "    </tr>\n",
       "  </thead>\n",
       "  <tbody>\n",
       "    <tr>\n",
       "      <th>0</th>\n",
       "      <td>2010-06-29</td>\n",
       "      <td>3.800000</td>\n",
       "      <td>5.000000</td>\n",
       "      <td>3.508000</td>\n",
       "      <td>4.778000</td>\n",
       "      <td>4.778000</td>\n",
       "      <td>93831500</td>\n",
       "    </tr>\n",
       "    <tr>\n",
       "      <th>1</th>\n",
       "      <td>2010-06-30</td>\n",
       "      <td>5.158000</td>\n",
       "      <td>6.084000</td>\n",
       "      <td>4.660000</td>\n",
       "      <td>4.766000</td>\n",
       "      <td>4.766000</td>\n",
       "      <td>85935500</td>\n",
       "    </tr>\n",
       "    <tr>\n",
       "      <th>2</th>\n",
       "      <td>2010-07-01</td>\n",
       "      <td>5.000000</td>\n",
       "      <td>5.184000</td>\n",
       "      <td>4.054000</td>\n",
       "      <td>4.392000</td>\n",
       "      <td>4.392000</td>\n",
       "      <td>41094000</td>\n",
       "    </tr>\n",
       "    <tr>\n",
       "      <th>3</th>\n",
       "      <td>2010-07-02</td>\n",
       "      <td>4.600000</td>\n",
       "      <td>4.620000</td>\n",
       "      <td>3.742000</td>\n",
       "      <td>3.840000</td>\n",
       "      <td>3.840000</td>\n",
       "      <td>25699000</td>\n",
       "    </tr>\n",
       "    <tr>\n",
       "      <th>4</th>\n",
       "      <td>2010-07-06</td>\n",
       "      <td>4.000000</td>\n",
       "      <td>4.000000</td>\n",
       "      <td>3.166000</td>\n",
       "      <td>3.222000</td>\n",
       "      <td>3.222000</td>\n",
       "      <td>34334500</td>\n",
       "    </tr>\n",
       "    <tr>\n",
       "      <th>...</th>\n",
       "      <td>...</td>\n",
       "      <td>...</td>\n",
       "      <td>...</td>\n",
       "      <td>...</td>\n",
       "      <td>...</td>\n",
       "      <td>...</td>\n",
       "      <td>...</td>\n",
       "    </tr>\n",
       "    <tr>\n",
       "      <th>2840</th>\n",
       "      <td>2021-10-08</td>\n",
       "      <td>796.210022</td>\n",
       "      <td>796.380005</td>\n",
       "      <td>780.909973</td>\n",
       "      <td>785.489990</td>\n",
       "      <td>785.489990</td>\n",
       "      <td>16711100</td>\n",
       "    </tr>\n",
       "    <tr>\n",
       "      <th>2841</th>\n",
       "      <td>2021-10-11</td>\n",
       "      <td>787.650024</td>\n",
       "      <td>801.239990</td>\n",
       "      <td>785.500000</td>\n",
       "      <td>791.940002</td>\n",
       "      <td>791.940002</td>\n",
       "      <td>14200300</td>\n",
       "    </tr>\n",
       "    <tr>\n",
       "      <th>2842</th>\n",
       "      <td>2021-10-12</td>\n",
       "      <td>800.929993</td>\n",
       "      <td>812.320007</td>\n",
       "      <td>796.570007</td>\n",
       "      <td>805.719971</td>\n",
       "      <td>805.719971</td>\n",
       "      <td>22020000</td>\n",
       "    </tr>\n",
       "    <tr>\n",
       "      <th>2843</th>\n",
       "      <td>2021-10-13</td>\n",
       "      <td>810.469971</td>\n",
       "      <td>815.409973</td>\n",
       "      <td>805.780029</td>\n",
       "      <td>811.080017</td>\n",
       "      <td>811.080017</td>\n",
       "      <td>14120100</td>\n",
       "    </tr>\n",
       "    <tr>\n",
       "      <th>2844</th>\n",
       "      <td>2021-10-14</td>\n",
       "      <td>815.489990</td>\n",
       "      <td>820.250000</td>\n",
       "      <td>813.349976</td>\n",
       "      <td>818.320007</td>\n",
       "      <td>818.320007</td>\n",
       "      <td>12203200</td>\n",
       "    </tr>\n",
       "  </tbody>\n",
       "</table>\n",
       "<p>2845 rows × 7 columns</p>\n",
       "</div>"
      ],
      "text/plain": [
       "            Date        Open        High         Low       Close   Adj Close  \\\n",
       "0     2010-06-29    3.800000    5.000000    3.508000    4.778000    4.778000   \n",
       "1     2010-06-30    5.158000    6.084000    4.660000    4.766000    4.766000   \n",
       "2     2010-07-01    5.000000    5.184000    4.054000    4.392000    4.392000   \n",
       "3     2010-07-02    4.600000    4.620000    3.742000    3.840000    3.840000   \n",
       "4     2010-07-06    4.000000    4.000000    3.166000    3.222000    3.222000   \n",
       "...          ...         ...         ...         ...         ...         ...   \n",
       "2840  2021-10-08  796.210022  796.380005  780.909973  785.489990  785.489990   \n",
       "2841  2021-10-11  787.650024  801.239990  785.500000  791.940002  791.940002   \n",
       "2842  2021-10-12  800.929993  812.320007  796.570007  805.719971  805.719971   \n",
       "2843  2021-10-13  810.469971  815.409973  805.780029  811.080017  811.080017   \n",
       "2844  2021-10-14  815.489990  820.250000  813.349976  818.320007  818.320007   \n",
       "\n",
       "        Volume  \n",
       "0     93831500  \n",
       "1     85935500  \n",
       "2     41094000  \n",
       "3     25699000  \n",
       "4     34334500  \n",
       "...        ...  \n",
       "2840  16711100  \n",
       "2841  14200300  \n",
       "2842  22020000  \n",
       "2843  14120100  \n",
       "2844  12203200  \n",
       "\n",
       "[2845 rows x 7 columns]"
      ]
     },
     "execution_count": 3,
     "metadata": {},
     "output_type": "execute_result"
    }
   ],
   "source": [
    "df = pd.read_csv(url)\n",
    "df"
   ]
  },
  {
   "cell_type": "code",
   "execution_count": 4,
   "id": "8c2c69b1",
   "metadata": {},
   "outputs": [],
   "source": [
    "df['Date'] = pd.to_datetime(df.Date,format='%Y-%m-%d')\n",
    "df.index = df['Date']\n",
    "\n",
    "data = df.sort_index(ascending=True, axis=0)"
   ]
  },
  {
   "cell_type": "code",
   "execution_count": 5,
   "id": "d78fc9ea",
   "metadata": {},
   "outputs": [
    {
     "data": {
      "text/plain": [
       "LinearRegression()"
      ]
     },
     "execution_count": 5,
     "metadata": {},
     "output_type": "execute_result"
    }
   ],
   "source": [
    "#Trener algoritmen her\n",
    "x_train, x_test, y_train, y_test = train_test_split(df[['Close']], df[['Date']], test_size=.2)\n",
    "\n",
    "model = LinearRegression()\n",
    "model.fit(x_train,y_train)"
   ]
  },
  {
   "cell_type": "code",
   "execution_count": 6,
   "id": "48169d4a",
   "metadata": {},
   "outputs": [],
   "source": [
    "y_pred = model.predict(x_test)"
   ]
  },
  {
   "cell_type": "code",
   "execution_count": 7,
   "id": "aa045b25",
   "metadata": {},
   "outputs": [
    {
     "name": "stdout",
     "output_type": "stream",
     "text": [
      "            Close\n",
      "count  569.000000\n",
      "mean   110.463550\n",
      "std    197.088590\n",
      "min      3.664000\n",
      "25%     20.480000\n",
      "50%     45.860001\n",
      "75%     64.269997\n",
      "max    863.419983\n"
     ]
    }
   ],
   "source": [
    "print(x_test.describe())"
   ]
  },
  {
   "cell_type": "code",
   "execution_count": 8,
   "id": "3c076a33",
   "metadata": {},
   "outputs": [
    {
     "name": "stdout",
     "output_type": "stream",
     "text": [
      "             Close\n",
      "count  2276.000000\n",
      "mean    104.700973\n",
      "std     186.683434\n",
      "min       3.160000\n",
      "25%       9.034500\n",
      "50%      45.909000\n",
      "75%      65.348997\n",
      "max     883.090027\n"
     ]
    }
   ],
   "source": [
    "print(x_train.describe())"
   ]
  },
  {
   "cell_type": "code",
   "execution_count": 9,
   "id": "21597252",
   "metadata": {},
   "outputs": [],
   "source": [
    "#Her ville jeg vise/sammenlikne treningsverdiene og verdiene AIen gir med linær regresjon, men fikk ikke til å vise\n",
    "# regresjonen på et plot\n",
    "#Vet vi skulle ta inn en input variabel fra brukeren i form av dato, men fikk mange problemer når jeg skulle gjøre det. Fikk f.eks en feil som sa at str ikke er callable, som jeg ikke klarte å fikse\n",
    "Usikker på hva som mentes med prediction percentage score. Hvis det er .score vi skulle bruke til det har jeg ikke fått det til. Fikk bare feilmeldinger"
   ]
  },
  {
   "cell_type": "code",
   "execution_count": null,
   "id": "d1e60aed",
   "metadata": {},
   "outputs": [],
   "source": []
  }
 ],
 "metadata": {
  "kernelspec": {
   "display_name": "Python 3",
   "language": "python",
   "name": "python3"
  },
  "language_info": {
   "codemirror_mode": {
    "name": "ipython",
    "version": 3
   },
   "file_extension": ".py",
   "mimetype": "text/x-python",
   "name": "python",
   "nbconvert_exporter": "python",
   "pygments_lexer": "ipython3",
   "version": "3.8.8"
  }
 },
 "nbformat": 4,
 "nbformat_minor": 5
}
